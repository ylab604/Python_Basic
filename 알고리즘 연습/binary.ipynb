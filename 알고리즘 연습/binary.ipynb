{
 "cells": [
  {
   "cell_type": "code",
   "execution_count": 4,
   "metadata": {},
   "outputs": [
    {
     "name": "stdout",
     "output_type": "stream",
     "text": [
      "생성할 원소 개수 입력\n",
      "앞서 적은 원소\n",
      "1\n"
     ]
    }
   ],
   "source": [
    "def sequential_search(n,target,array):\n",
    "    for i in range(n):\n",
    "        if array[i] ==target:\n",
    "            return i +1\n",
    "\n",
    "\n",
    "print(\"생성할 원소 개수 입력\")\n",
    "\n",
    "input_data=input().split()\n",
    "n = int(input_data[0])\n",
    "target = input_data[1]\n",
    "\n",
    "print(\"앞서 적은 원소\")\n",
    "\n",
    "array = input().split()\n",
    "\n",
    "print(sequential_search(n,target,array))"
   ]
  },
  {
   "cell_type": "code",
   "execution_count": 7,
   "metadata": {},
   "outputs": [
    {
     "name": "stdout",
     "output_type": "stream",
     "text": [
      "4\n"
     ]
    }
   ],
   "source": [
    "##이진 탐색 : 반으로 쪼개면서 탐색하기\n",
    "\n",
    "def binary_search(array, target, start, end):\n",
    "    if start > end:\n",
    "        return None\n",
    "    mid = (start + end )//2\n",
    "    if array[mid] == target:\n",
    "        return mid\n",
    "    elif array[mid] > target:\n",
    "        return binary_search(array,target, start, mid-1)\n",
    "    else:\n",
    "        return binary_search(array, target, mid+1, end)\n",
    "\n",
    "n, target = list(map(int,input().split()))\n",
    "\n",
    "array = list(map(int,input().split()))\n",
    "\n",
    "\n",
    "result = binary_search(array, target, 0,n-1)\n",
    "if result  == None:\n",
    "    print(\"원소가 존재하지 않습니다.\")\n",
    "\n",
    "else:\n",
    "    print(result+1)"
   ]
  },
  {
   "cell_type": "code",
   "execution_count": null,
   "metadata": {},
   "outputs": [],
   "source": [
    "def binary_search(array, target, start, end):\n",
    "    while start <=end:\n",
    "        mid = (start + end) // 2\n",
    "        if array[mid] == target:\n",
    "            return mid\n",
    "        elif array[mid] >target:\n",
    "            end = mid -1\n",
    "\n",
    "        else:\n",
    "            start = mid +1\n",
    "\n",
    "    return None\n",
    "\n",
    "n, target = list(map(int,input().split()))\n",
    "\n",
    "array = list(map(int, input().split()))\n",
    "\n",
    "result = binary_search(array, target, 0 ,n-1)\n",
    "\n",
    "if result == None:\n",
    "    print(\"원소가 존재하지 않습니다.\")\n",
    "else:\n",
    "    print(result+1)"
   ]
  },
  {
   "cell_type": "code",
   "execution_count": 8,
   "metadata": {},
   "outputs": [],
   "source": [
    "import sys\n",
    "\n",
    "input_data = sys.stdin.readline().rstrip()\n",
    "\n",
    "print(input_data)"
   ]
  },
  {
   "cell_type": "code",
   "execution_count": null,
   "metadata": {},
   "outputs": [],
   "source": [
    "\n"
   ]
  }
 ],
 "metadata": {
  "interpreter": {
   "hash": "6d46af94c2bbce495f1e668725902fa517c90b1782bcfe2fce0dd9868df553d3"
  },
  "kernelspec": {
   "display_name": "Python 3.8.8 ('base')",
   "language": "python",
   "name": "python3"
  },
  "language_info": {
   "codemirror_mode": {
    "name": "ipython",
    "version": 3
   },
   "file_extension": ".py",
   "mimetype": "text/x-python",
   "name": "python",
   "nbconvert_exporter": "python",
   "pygments_lexer": "ipython3",
   "version": "3.8.8"
  },
  "orig_nbformat": 4
 },
 "nbformat": 4,
 "nbformat_minor": 2
}
