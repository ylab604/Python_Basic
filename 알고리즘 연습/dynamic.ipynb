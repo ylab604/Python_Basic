{
 "cells": [
  {
   "cell_type": "code",
   "execution_count": 1,
   "metadata": {},
   "outputs": [
    {
     "name": "stdout",
     "output_type": "stream",
     "text": [
      "3\n"
     ]
    }
   ],
   "source": [
    "def fibo(x):\n",
    "    if x == 1 or x ==2:\n",
    "        return 1\n",
    "    return fibo(x-1)+fibo(x-2)\n",
    "\n",
    "\n",
    "print(fibo(4))\n"
   ]
  },
  {
   "cell_type": "code",
   "execution_count": 2,
   "metadata": {},
   "outputs": [
    {
     "name": "stdout",
     "output_type": "stream",
     "text": [
      "218922995834555169026\n"
     ]
    }
   ],
   "source": [
    "d = [0]*100\n",
    "\n",
    "def fibo(x):\n",
    "    if x ==1 or x ==2:\n",
    "        return 1 \n",
    "\n",
    "    if d[x]!=0:\n",
    "        return d[x]\n",
    "\n",
    "    d[x] = fibo(x-1)+fibo(x-2)\n",
    "\n",
    "    return d[x]\n",
    "print(fibo(99))"
   ]
  },
  {
   "cell_type": "code",
   "execution_count": 3,
   "metadata": {},
   "outputs": [
    {
     "name": "stdout",
     "output_type": "stream",
     "text": [
      "f(6) f(5) f(4) f(3) f(2) f(1) f(2) f(3) f(4) "
     ]
    },
    {
     "data": {
      "text/plain": [
       "8"
      ]
     },
     "execution_count": 3,
     "metadata": {},
     "output_type": "execute_result"
    }
   ],
   "source": [
    "d= [0]*100\n",
    "def pibo(x):\n",
    "    print('f('+str(x)+')',end=\" \")\n",
    "    if x ==1 or x ==2:\n",
    "        return 1\n",
    "\n",
    "    if d[x] !=0:\n",
    "        return d[x]\n",
    "\n",
    "    d[x] = pibo(x-1)+ pibo(x-2)\n",
    "    return d[x]\n",
    "\n",
    "pibo(6)"
   ]
  },
  {
   "cell_type": "code",
   "execution_count": 4,
   "metadata": {},
   "outputs": [
    {
     "name": "stdout",
     "output_type": "stream",
     "text": [
      "218922995834555169026\n"
     ]
    }
   ],
   "source": [
    "d = [0]*100\n",
    "\n",
    "d[1] =1\n",
    "d[2] =1\n",
    "n=99\n",
    "\n",
    "for i in range(3,n+1):\n",
    "    d[i] = d[i-1]+d[i-2]\n",
    "    \n",
    "print(d[n])\n"
   ]
  },
  {
   "cell_type": "code",
   "execution_count": 3,
   "metadata": {},
   "outputs": [
    {
     "name": "stdout",
     "output_type": "stream",
     "text": [
      "3\n"
     ]
    }
   ],
   "source": [
    "x = int(input())\n",
    "d=[0]*30001\n",
    "for i in range(2,x+1):\n",
    "    d[i] = d[i-1]+1\n",
    "    if i%2 ==0:\n",
    "        d[i] = min(d[i],d[i//2]+1)\n",
    "    if i%3 ==0:\n",
    "        d[i] = min(d[i],d[i//3]+1)\n",
    "    if i%5 ==0:\n",
    "        d[i] = min(d[i],d[i//5]+1)\n",
    "\n",
    "print(d[x])"
   ]
  },
  {
   "cell_type": "code",
   "execution_count": 1,
   "metadata": {},
   "outputs": [
    {
     "name": "stdout",
     "output_type": "stream",
     "text": [
      "3\n"
     ]
    }
   ],
   "source": [
    "#한번더\n",
    "\n",
    "def fibo(x):\n",
    "    if x ==1 or x ==2:\n",
    "        return 1\n",
    "    return fibo(x-1)+fibo(x-2)\n",
    "\n",
    "print(fibo(4))"
   ]
  },
  {
   "cell_type": "code",
   "execution_count": 2,
   "metadata": {},
   "outputs": [
    {
     "name": "stdout",
     "output_type": "stream",
     "text": [
      "218922995834555169026\n"
     ]
    }
   ],
   "source": [
    "#리스트 초기화\n",
    "d= [0]*100\n",
    "\n",
    "#피보나치 함수를 재귀로 구현(탑다운)\n",
    "def fibo(x):\n",
    "    # 종료 조건(1 혹은 2일 때 1을 반환)\n",
    "    if x==1 or x==2:\n",
    "        return 1\n",
    "\n",
    "    # 이미 계산한적 있는 문제라면 그대로 반환\n",
    "    if d[x]!= 0:\n",
    "        return d[x]\n",
    "    #아직 계산한지 않은 문제라면 점화식에 따라서 피보나치 결과 반환\n",
    "    d[x] = fibo(x-1)+fibo(x-2)\n",
    "    return d[x]\n",
    "\n",
    "print(fibo(99))\n"
   ]
  },
  {
   "cell_type": "code",
   "execution_count": 3,
   "metadata": {},
   "outputs": [
    {
     "name": "stdout",
     "output_type": "stream",
     "text": [
      "f(6) f(4) f(2) f(3) f(1) f(2) f(5) f(3) f(4) "
     ]
    },
    {
     "data": {
      "text/plain": [
       "8"
      ]
     },
     "execution_count": 3,
     "metadata": {},
     "output_type": "execute_result"
    }
   ],
   "source": [
    "d=[0]*100\n",
    "\n",
    "def pibo(x):\n",
    "    print('f('+str(x)+')',end=' ')\n",
    "    if x ==1 or x==2:\n",
    "        return 1 \n",
    "    if d[x] !=0:\n",
    "        return d[x]\n",
    "    d[x] = pibo(x-2)+pibo(x-1)\n",
    "    return d[x]\n",
    "\n",
    "pibo(6)"
   ]
  },
  {
   "cell_type": "code",
   "execution_count": 4,
   "metadata": {},
   "outputs": [
    {
     "name": "stdout",
     "output_type": "stream",
     "text": [
      "354224848179261915075\n"
     ]
    }
   ],
   "source": [
    "d=[0]*100\n",
    "\n",
    "d[1]=1\n",
    "d[2]=2\n",
    "\n",
    "n = 99\n",
    "for i in range(3,n+1):\n",
    "    d[i] = d[i-1]+d[i-2]\n",
    "\n",
    "print(d[n])\n"
   ]
  },
  {
   "cell_type": "code",
   "execution_count": 5,
   "metadata": {},
   "outputs": [
    {
     "name": "stdout",
     "output_type": "stream",
     "text": [
      "3\n"
     ]
    }
   ],
   "source": [
    "#1로 만들기\n",
    "# x가 5로 나누어떨어지면, 5로 나눈다\n",
    "# x가 3으로 나누어떨어지면, 3으로 나눈다\n",
    "# x가 2로 나누어떨어지면, 2로 나눈다\n",
    "# x에서 1을 뺀다.\n",
    "# 연산 최소로???? 점화식??? 1로 만든다 == 1에서 시작한다\n",
    "\n",
    "n = int(input())\n",
    "d = [0]*30001\n",
    "\n",
    "for i in range(2,n+1):\n",
    "    d[i] = d[i-1] +1\n",
    "    if i%2==0:\n",
    "        d[i] = min(d[i],d[i//2]+1)\n",
    "    if i%3==0:\n",
    "        d[i]= min(d[i],d[i//3]+1)\n",
    "    if i%5==0:\n",
    "        d[i]=min(d[i],d[i//5]+1)\n",
    "print(d[n])\n",
    "\n"
   ]
  },
  {
   "cell_type": "code",
   "execution_count": null,
   "metadata": {},
   "outputs": [],
   "source": [
    "# 식량창고는 일직선, 선택적 약탈, 최소한 한칸이상 떨어진 식량창고 약탈\n",
    "# 최대한 많은 식량 얻기를 원함\n",
    "\n",
    "n= int(input())\n",
    "a= list(map(int,input().split()))\n",
    "\n",
    "# 생각해보면 경우의수 나눠보면 [1010],[1001],[0101]\n",
    "\n",
    "d = [0]*100\n",
    "d[0] = a[0]\n",
    "d[1] = max(a[0],a[1])\n",
    "for i in range(2, n):\n",
    "    d[i] = max(d[i-1],d[i-2]+a[i])\n",
    "\n",
    "\n",
    "print(d[n-1])\n",
    "\n",
    "\n",
    "\n"
   ]
  },
  {
   "cell_type": "code",
   "execution_count": 26,
   "metadata": {},
   "outputs": [
    {
     "name": "stdout",
     "output_type": "stream",
     "text": [
      "5\n"
     ]
    }
   ],
   "source": [
    "#바닥공사 바닥을 채우는 모든 경우의수를 구하는 프로그램을 작성 세로는 무조건 2 가로는 N\n",
    "# 123===> 3,1//1,3//2,2,2//1,1,2//2,11\n",
    "# 세로는 신경쓰지말고 그냥 다른 모양이라고 생각\n",
    "N = int(input())\n",
    "d=[0]*1001\n",
    "#an=a(n-1)+a(n-2)*2\n",
    "d[1] = 1\n",
    "d[2] = 3\n",
    "\n",
    "for i in range(3,n+1):\n",
    "    d[i] = (d[i-1]+d[i-2]*2)%796796\n",
    "\n",
    "print(d[N])\n",
    "    \n",
    "\n",
    "\n",
    "\n"
   ]
  },
  {
   "cell_type": "code",
   "execution_count": 10,
   "metadata": {},
   "outputs": [
    {
     "data": {
      "text/plain": [
       "[2, 3]"
      ]
     },
     "execution_count": 10,
     "metadata": {},
     "output_type": "execute_result"
    }
   ],
   "source": [
    "#효율적인 화폐 구성 개수 최소한, 가치의 합이 M원이 되도록하려고함, 각화폐는 몇개라도 사용가능\n",
    "n,m = map(int,input().split())\n",
    "a=[]\n",
    "\n",
    "for i in range(n):\n",
    "    a.append(int(input()))\n",
    "\n",
    "#점화식?? a=(a(n-1),a+1)  없으면 a=10001\n",
    "\n",
    "\n",
    "d=[10001]*(m+1)\n",
    "d[0]=0\n",
    "\n",
    "for i in range(n):\n",
    "    for j in range(a[i],m+1):\n",
    "        if d[j-a[i]]!=10001:\n",
    "            d[j] = min(d[j],d[j-a[i]]+1)\n",
    "if d[m] == 10001:\n",
    "    print(-1)\n",
    "\n",
    "else:\n",
    "    print(d[m])\n",
    "\n",
    "\n",
    "    \n",
    "\n",
    "\n"
   ]
  },
  {
   "cell_type": "code",
   "execution_count": 11,
   "metadata": {},
   "outputs": [
    {
     "data": {
      "text/plain": [
       "[10001, 10001, 10001]"
      ]
     },
     "execution_count": 11,
     "metadata": {},
     "output_type": "execute_result"
    }
   ],
   "source": []
  },
  {
   "cell_type": "code",
   "execution_count": 18,
   "metadata": {},
   "outputs": [
    {
     "name": "stdout",
     "output_type": "stream",
     "text": [
      "2\n"
     ]
    }
   ],
   "source": [
    "# 1로만들기\n",
    "n= int(input())\n",
    "\n",
    "#a = min(a(n-1),a(n-2)+1)\n",
    "\n",
    "d=[0]*10000\n",
    "\n",
    "\n",
    "for i in range(2, n+1 ):\n",
    "    d[i] = d[i-1]+1\n",
    "    if d[i]%3==0:\n",
    "        d[i] =min(d[i],d[i//3]+1)\n",
    "    if d[i]%2==0:\n",
    "        d[i] =min(d[i],d[i//2]+1)\n",
    "    \n",
    "\n",
    "print(d[n])\n",
    "\n",
    "\n",
    "\n"
   ]
  },
  {
   "cell_type": "code",
   "execution_count": 20,
   "metadata": {},
   "outputs": [
    {
     "name": "stdout",
     "output_type": "stream",
     "text": [
      "3\n"
     ]
    }
   ],
   "source": [
    "n = int(input())\n",
    "d = [0]*30001\n",
    "\n",
    "for i in range(2,n+1):\n",
    "    d[i] = d[i-1] +1\n",
    "    if i%2==0:\n",
    "        d[i] = min(d[i],d[i//2]+1)\n",
    "    if i%3==0:\n",
    "        d[i]= min(d[i],d[i//3]+1)\n",
    "   \n",
    "print(d[n])\n"
   ]
  },
  {
   "cell_type": "code",
   "execution_count": 24,
   "metadata": {},
   "outputs": [
    {
     "name": "stdout",
     "output_type": "stream",
     "text": [
      "7\n",
      "44\n",
      "274\n"
     ]
    }
   ],
   "source": [
    "#백준_9095\n",
    "#방법의 수 구하기 이코테 바닥문제와 동일 무지성 풀이 시작\n",
    "#\n",
    "T= int(input())\n",
    "d=[0]*1001\n",
    "for j in range(T):\n",
    "    n = int(input())    \n",
    "    d[1] =1\n",
    "    d[2] =2\n",
    "    d[3] =4\n",
    "    for i in range(4, n+1):\n",
    "        d[i] = d[i-1]+d[i-2]+d[i-3]\n",
    "\n",
    "    print(d[n])\n",
    "\n",
    "\n"
   ]
  },
  {
   "cell_type": "code",
   "execution_count": 44,
   "metadata": {},
   "outputs": [
    {
     "name": "stdout",
     "output_type": "stream",
     "text": [
      "3\n"
     ]
    }
   ],
   "source": [
    "#백준_1149 \n",
    "#최솟값 구하기 이코테 개미집 문제와 동일 수준\n",
    "n=int(input())\n",
    "\n",
    "d=[]\n",
    "\n",
    "for i in range(n):\n",
    "    d.append(list(map(int, input().split())))\n",
    "\n",
    "#d[1]=  min(a[1][0],a[1][1],a[1][2]) 오른쪽값이 정수라서 에러뜸\n",
    "\n",
    "for i in range(1,n):\n",
    "    d[i][0] = min(d[i-1][1],d[i-1][2])+d[i][0]\n",
    "    d[i][1] = min(d[i-1][0],d[i-1][2])+d[i][1]\n",
    "    d[i][2] = min(d[i-1][0],d[i-1][1])+d[i][2]\n",
    "\n",
    "print(min(d[n-1]))\n",
    "\n",
    "\n",
    "\n",
    "\n"
   ]
  },
  {
   "cell_type": "code",
   "execution_count": 43,
   "metadata": {},
   "outputs": [
    {
     "name": "stdout",
     "output_type": "stream",
     "text": [
      "96\n"
     ]
    }
   ],
   "source": [
    "n = int(input())\n",
    "p = []\n",
    "for i in range(n):\n",
    "    p.append(list(map(int, input().split())))\n",
    "for i in range(1, len(p)):\n",
    "    p[i][0] = min(p[i - 1][1], p[i - 1][2]) + p[i][0]\n",
    "    p[i][1] = min(p[i - 1][0], p[i - 1][2]) + p[i][1]\n",
    "    p[i][2] = min(p[i - 1][0], p[i - 1][1]) + p[i][2]\n",
    "print(min(p[n - 1][0], p[n - 1][1], p[n - 1][2]))"
   ]
  },
  {
   "cell_type": "code",
   "execution_count": null,
   "metadata": {},
   "outputs": [],
   "source": []
  }
 ],
 "metadata": {
  "interpreter": {
   "hash": "6d46af94c2bbce495f1e668725902fa517c90b1782bcfe2fce0dd9868df553d3"
  },
  "kernelspec": {
   "display_name": "Python 3.8.8 ('base')",
   "language": "python",
   "name": "python3"
  },
  "language_info": {
   "codemirror_mode": {
    "name": "ipython",
    "version": 3
   },
   "file_extension": ".py",
   "mimetype": "text/x-python",
   "name": "python",
   "nbconvert_exporter": "python",
   "pygments_lexer": "ipython3",
   "version": "3.8.8"
  },
  "orig_nbformat": 4
 },
 "nbformat": 4,
 "nbformat_minor": 2
}
