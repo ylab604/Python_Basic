{
 "cells": [
  {
   "cell_type": "code",
   "execution_count": 5,
   "metadata": {},
   "outputs": [
    {
     "name": "stdout",
     "output_type": "stream",
     "text": [
      "정수를 입력하지 않았습니다.\n"
     ]
    }
   ],
   "source": [
    "user_input_a = input(\"정수 입력> \")\n",
    "\n",
    "if user_input_a.isdigit():\n",
    "    number_input_a = int(user_input_a)\n",
    "    print(number_input_a)\n",
    "    print(2*3.14*number_input_a)\n",
    "    print(3.14*number_input_a*number_input_a)\n",
    "else:\n",
    "    print(\"정수를 입력하지 않았습니다.\")"
   ]
  },
  {
   "cell_type": "code",
   "execution_count": 7,
   "metadata": {},
   "outputs": [
    {
     "name": "stdout",
     "output_type": "stream",
     "text": [
      "무언가 잘못됨\n"
     ]
    }
   ],
   "source": [
    "try:\n",
    "    number_input_a = int(input(\"정수입력\"))\n",
    "    print(number_input_a)\n",
    "except:\n",
    "    print(\"무언가 잘못됨\")"
   ]
  },
  {
   "cell_type": "code",
   "execution_count": 9,
   "metadata": {},
   "outputs": [
    {
     "name": "stdout",
     "output_type": "stream",
     "text": [
      "잘작동함\n",
      "어떻게든 끝났습니다.\n",
      "잘작동함\n",
      "어떻게든 끝났습니다.\n",
      "잘작동함\n",
      "어떻게든 끝났습니다.\n",
      "정수입력하라니깐?\n",
      "어떻게든 끝났습니다.\n",
      "잘작동함\n",
      "어떻게든 끝났습니다.\n"
     ]
    },
    {
     "data": {
      "text/plain": [
       "['52', '272', '32', '103']"
      ]
     },
     "execution_count": 9,
     "metadata": {},
     "output_type": "execute_result"
    }
   ],
   "source": [
    "list_input_a=[\"52\",\"272\",\"32\",\"스파이\",\"103\"]\n",
    "list_number=[]\n",
    "for item in list_input_a:\n",
    "    try:\n",
    "        float(item)\n",
    "        list_number.append(item)\n",
    "    except:\n",
    "        print(\"정수입력하라니깐?\")\n",
    "\n",
    "    else:\n",
    "        print(\"잘작동함\")\n",
    "    finally:\n",
    "        print(\"어떻게든 끝났습니다.\")\n",
    "\n",
    "\n",
    "\n",
    "list_number"
   ]
  },
  {
   "cell_type": "code",
   "execution_count": null,
   "metadata": {},
   "outputs": [],
   "source": [
    "try:\n",
    "    file = open(\"info.txt\",\"w\")\n",
    "    file.close()\n",
    "\n",
    "except Exception as e:\n",
    "    print(e)\n",
    "\n"
   ]
  },
  {
   "cell_type": "code",
   "execution_count": null,
   "metadata": {},
   "outputs": [],
   "source": [
    "list_number = [52,273,32,72,100]\n",
    "\n",
    "try:\n",
    "    number_input = int(input(\"정수입력> \"))\n",
    "\n",
    "    print(number_input,list_number[number_input])\n",
    "except Exception as exception:\n",
    "    print(\"type(exception):\", type(exception))\n",
    "    print(\"exception:\", exception)\n",
    "\n",
    "\n"
   ]
  },
  {
   "cell_type": "code",
   "execution_count": 10,
   "metadata": {},
   "outputs": [
    {
     "name": "stdout",
     "output_type": "stream",
     "text": [
      "2번째 요소:32\n"
     ]
    }
   ],
   "source": [
    "list_number = [52,273,32,72,100]\n",
    "\n",
    "try:\n",
    "    number_input = int(input(\"정수 입력\"))\n",
    "    print(\"{}번째 요소:{}\".format(number_input, list_number[number_input]))\n",
    "except ValueError:\n",
    "    print(\"정수를 입력해주세요\")\n",
    "except IndexError:\n",
    "    print(\"리스트의 인덱스를 벗어났어요!\")"
   ]
  },
  {
   "cell_type": "code",
   "execution_count": 12,
   "metadata": {},
   "outputs": [
    {
     "name": "stdout",
     "output_type": "stream",
     "text": [
      "정수를 입력해 주세요!\n",
      "<class 'ValueError'> invalid literal for int() with base 10: 'dadf'\n"
     ]
    }
   ],
   "source": [
    "#모든 예외 잡기\n",
    "\n",
    "list_number = [52,273,32,72,100]\n",
    "try:\n",
    "    number_input = int(input(\"정수 입력> \"))\n",
    "    print(\"{}번째 요소:{}\".format(number_input, list_number[number_input]))\n",
    "except ValueError as exception:\n",
    "    print(\"정수를 입력해 주세요!\")\n",
    "    print(type(exception), exception)\n",
    "except IndexError as exception:\n",
    "    print(\"리스트의 인덱스를 벗어났어요!\")\n",
    "    print(type(exception),exception)\n",
    "except Exception as exception:\n",
    "    print(\"미리 파악하지 못한 예외가 발생했습니다.\")\n",
    "    print(type(exception),exception)"
   ]
  },
  {
   "cell_type": "code",
   "execution_count": null,
   "metadata": {},
   "outputs": [],
   "source": [
    "number = input(\"정수입력>\")\n",
    "number = int(number)\n",
    "if number>0:\n",
    "    raise NotImplementedError\n",
    "else:\n",
    "    raise NotImplementedError"
   ]
  }
 ],
 "metadata": {
  "interpreter": {
   "hash": "503af75e3c8db6ebac337b69341717e5f227b5885f17cc238a0771770152328d"
  },
  "kernelspec": {
   "display_name": "Python 3.7.4 ('base')",
   "language": "python",
   "name": "python3"
  },
  "language_info": {
   "codemirror_mode": {
    "name": "ipython",
    "version": 3
   },
   "file_extension": ".py",
   "mimetype": "text/x-python",
   "name": "python",
   "nbconvert_exporter": "python",
   "pygments_lexer": "ipython3",
   "version": "3.7.4"
  },
  "orig_nbformat": 4
 },
 "nbformat": 4,
 "nbformat_minor": 2
}
