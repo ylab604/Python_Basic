{
 "cells": [
  {
   "cell_type": "code",
   "execution_count": 14,
   "metadata": {},
   "outputs": [
    {
     "name": "stdout",
     "output_type": "stream",
     "text": [
      "이름\t총점\t평균\n",
      "윤인성\t380\t95.0\n",
      "연하진\t360\t90.0\n",
      "나선주\t376\t94.0\n",
      "구지연\t364\t91.0\n",
      "윤아린\t360\t90.0\n",
      "윤명월\t362\t90.5\n",
      "6\n"
     ]
    }
   ],
   "source": [
    "students = [\n",
    "    {\"name\":\"윤인성\",\"korean\":97,\"math\":99,\"english\":88,\"science\":96},\n",
    "    {\"name\":\"연하진\",\"korean\":91,\"math\":92,\"english\":83,\"science\":94},\n",
    "    {\"name\":\"나선주\",\"korean\":98,\"math\":97,\"english\":86,\"science\":95},\n",
    "    {\"name\":\"구지연\",\"korean\":92,\"math\":93,\"english\":84,\"science\":95},\n",
    "    {\"name\":\"윤아린\",\"korean\":87,\"math\":89,\"english\":98,\"science\":86},\n",
    "    {\"name\":\"윤명월\",\"korean\":91,\"math\":92,\"english\":84,\"science\":95}\n",
    "]\n",
    "\n",
    "print(\"이름\",\"총점\",\"평균\",sep=\"\\t\")\n",
    "\n",
    "for i in students:\n",
    "    score_sum = i[\"korean\"]+i[\"math\"]+i[\"english\"]+i[\"science\"]\n",
    "    score_avg = score_sum/4\n",
    "    print(i[\"name\"],score_sum,score_avg,sep=\"\\t\")\n",
    "\n",
    "print(len(students))"
   ]
  },
  {
   "cell_type": "code",
   "execution_count": 17,
   "metadata": {},
   "outputs": [
    {
     "name": "stdout",
     "output_type": "stream",
     "text": [
      "이름\t총점\t평균\n",
      "윤인성\t340\t85.0\n",
      "연하진\t340\t85.0\n",
      "구지연\t340\t85.0\n",
      "윤아린\t340\t85.0\n",
      "윤명월\t340\t85.0\n",
      "나선주\t340\t85.0\n"
     ]
    }
   ],
   "source": [
    "def create_student(name, korean, math, english, science):\n",
    "    return {\n",
    "        \"name\":name,\n",
    "        \"korean\": korean,\n",
    "        \"math\":math,\n",
    "        \"english\": english,\n",
    "        \"science\": science\n",
    "    }\n",
    "\n",
    "\n",
    "def student_get_sum(student):\n",
    "    return student[\"korean\"]+student[\"math\"]+student[\"english\"]+student[\"science\"]\n",
    "\n",
    "\n",
    "def student_get_average(student):\n",
    "    return student_get_sum(student)/4\n",
    "\n",
    "\n",
    "def student_to_string(student):\n",
    "    return \"{}\\t{}\\t{}\".format(\n",
    "        student[\"name\"],\n",
    "        student_get_sum(student),\n",
    "        student_get_average(student)\n",
    "    )\n",
    "\n",
    "\n",
    "students = [\n",
    "    create_student(\"윤인성\", 98,88,66,88),\n",
    "    create_student(\"연하진\", 98,88,66,88),\n",
    "    create_student(\"구지연\", 98,88,66,88),\n",
    "    create_student(\"윤아린\", 98,88,66,88),\n",
    "    create_student(\"윤명월\", 98,88,66,88),\n",
    "    create_student(\"나선주\", 98,88,66,88)\n",
    "]\n",
    "print(\"이름\",\"총점\",\"평균\",sep=\"\\t\")\n",
    "\n",
    "\n",
    "\n",
    "for student in students:\n",
    "    \n",
    "    print(student_to_string(student))\n",
    "\n"
   ]
  },
  {
   "cell_type": "code",
   "execution_count": null,
   "metadata": {},
   "outputs": [],
   "source": []
  }
 ],
 "metadata": {
  "interpreter": {
   "hash": "503af75e3c8db6ebac337b69341717e5f227b5885f17cc238a0771770152328d"
  },
  "kernelspec": {
   "display_name": "Python 3.7.4 ('base')",
   "language": "python",
   "name": "python3"
  },
  "language_info": {
   "codemirror_mode": {
    "name": "ipython",
    "version": 3
   },
   "file_extension": ".py",
   "mimetype": "text/x-python",
   "name": "python",
   "nbconvert_exporter": "python",
   "pygments_lexer": "ipython3",
   "version": "3.7.4"
  },
  "orig_nbformat": 4
 },
 "nbformat": 4,
 "nbformat_minor": 2
}
